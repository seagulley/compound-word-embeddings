{
 "cells": [
  {
   "cell_type": "code",
   "execution_count": 16,
   "metadata": {},
   "outputs": [],
   "source": [
    "from __future__ import division, print_function, absolute_import\n",
    "\n",
    "import tensorflow.compat.v1 as tf\n",
    "import random\n",
    "import tflearn\n",
    "import numpy as np\n",
    "import pandas as pd\n",
    "from sklearn.manifold import TSNE\n",
    "import matplotlib.pyplot as plt\n",
    "\n",
    "from scipy import spatial"
   ]
  },
  {
   "cell_type": "code",
   "execution_count": 226,
   "metadata": {},
   "outputs": [],
   "source": [
    "from nltk.corpus import wordnet"
   ]
  },
  {
   "cell_type": "code",
   "execution_count": 227,
   "metadata": {},
   "outputs": [
    {
     "name": "stderr",
     "output_type": "stream",
     "text": [
      "[nltk_data] Downloading package wordnet to\n",
      "[nltk_data]     /Users/kalliehuynh/nltk_data...\n"
     ]
    },
    {
     "data": {
      "text/plain": [
       "True"
      ]
     },
     "execution_count": 227,
     "metadata": {},
     "output_type": "execute_result"
    }
   ],
   "source": [
    "nltk.download('wordnet')\n",
    "nltk.download('omw-1.4')"
   ]
  },
  {
   "cell_type": "code",
   "execution_count": 3,
   "metadata": {},
   "outputs": [],
   "source": [
    "np.random.seed(1)\n",
    "random.seed(1)\n",
    "tf.random.set_seed(1)"
   ]
  },
  {
   "cell_type": "code",
   "execution_count": 233,
   "metadata": {},
   "outputs": [
    {
     "name": "stdout",
     "output_type": "stream",
     "text": [
      "loading data...\n",
      "creating embeddings dictionary...\n"
     ]
    }
   ],
   "source": [
    "# Load data\n",
    "print('loading data...')\n",
    "data = pd.read_csv('BERT_trainingset2.csv')\n",
    "\n",
    "cp_words = list(data.iloc[:, 1])\n",
    "0\n",
    "# Embeddings Dict\n",
    "print('creating embeddings dictionary...')\n",
    "embeddings = pd.read_csv('/Users/kalliehuynh/compound-word-embeddings/BERT_embeddings.csv')\n",
    "embeddings_dict = {}\n",
    "for i in embeddings.index:\n",
    "    embeddings_dict[embeddings.iloc[i, 1]] = np.array(embeddings.iloc[i, 2:], dtype='float32')\n"
   ]
  },
  {
   "cell_type": "code",
   "execution_count": 133,
   "metadata": {},
   "outputs": [],
   "source": [
    "def find_closest_embeddings(embedding):\n",
    "    \n",
    "    return sorted(embeddings_dict.keys(), key=lambda word: np.linalg.norm(embeddings_dict[word] - embedding))\n",
    " \n",
    "def closest_cosine_similarity(embedding):\n",
    "    return sorted(embeddings_dict.keys(), key=lambda word: spatial.distance.cosine(embeddings_dict[word], embedding))    "
   ]
  },
  {
   "cell_type": "code",
   "execution_count": 6,
   "metadata": {},
   "outputs": [
    {
     "name": "stdout",
     "output_type": "stream",
     "text": [
      "testX shape: (85, 1536)\n",
      "testY shape: (85, 768)\n",
      "loading data complete!\n"
     ]
    }
   ],
   "source": [
    "rows = len(data)\n",
    "\n",
    "df = data.copy()\n",
    "df = df.sample(frac=1).reset_index(drop=True)\n",
    "\n",
    "\n",
    "np_array = np.array(df)\n",
    "train_rows = round(len(df)*0.7)\n",
    "test_rows = rows  - train_rows\n",
    "\n",
    "trainX = np.array(df.iloc[:train_rows, 4:1540], dtype=\"float32\")  # The vectors for the constituent words\n",
    "set_trainX = set(df.iloc[:train_rows, 4:1540])\n",
    "\n",
    "trainY = np.array(df.iloc[:train_rows, 1540:], dtype=\"float32\")  # The vector for the compound word\n",
    "\n",
    "testX = np.array(df.iloc[train_rows:, 4:1540], dtype=\"float32\")\n",
    "testY = np.array(df.iloc[train_rows:, 1540:], dtype=\"float32\")\n",
    "print('testX shape:', testX.shape)\n",
    "print('testY shape:', testY.shape)\n",
    "\n",
    "print('loading data complete!')"
   ]
  },
  {
   "cell_type": "code",
   "execution_count": 7,
   "metadata": {},
   "outputs": [
    {
     "name": "stdout",
     "output_type": "stream",
     "text": [
      "data reshaping...\n",
      "data reshaping complete!\n"
     ]
    }
   ],
   "source": [
    "# Reshape the input for LSTM\n",
    "print('data reshaping...')\n",
    "trainX = trainX.reshape((train_rows, 2, 768))\n",
    "testX = testX.reshape(testX.shape[0], 2, 768)\n",
    "print('data reshaping complete!')"
   ]
  },
  {
   "cell_type": "code",
   "execution_count": null,
   "metadata": {},
   "outputs": [],
   "source": [
    "def cosine_similarity(y_pred, y_true):\n",
    "    with tf.name_scope(\"Similarity\"):\n",
    "        dot_product = tf.reduce_sum(tf.math.multiply(y_pred,y_true),axis=1)\n",
    "\n",
    "        pred_magnitudes = tf.sqrt(tf.reduce_sum(tf.math.multiply(y_pred,y_pred),axis=1))\n",
    "        true_magnitudes = tf.sqrt(tf.reduce_sum(tf.math.multiply(y_true,y_true),axis=1))\n",
    "\n",
    "        cos = dot_product/(pred_magnitudes * true_magnitudes)\n",
    "\n",
    "        return tf.math.abs(tf.reduce_mean(cos) - 1)\n",
    "\n",
    "def mean_square(y_pred, y_true):\n",
    "    \"\"\" Mean Square Loss.\n",
    "\n",
    "    Arguments:\n",
    "        y_pred: `Tensor` of `float` type. Predicted values.\n",
    "        y_true: `Tensor` of `float` type. Targets (labels).\n",
    "\n",
    "    \"\"\"\n",
    "    with tf.name_scope(\"MeanSquare\"):\n",
    "        return tf.reduce_mean(tf.square(y_pred - y_true))\n",
    "\n",
    "def custom_loss(y_pred, y_true):\n",
    "    alpha = 0.05\n",
    "    cosine_loss = cosine_similarity(y_pred, y_true)\n",
    "    mean_square_loss = mean_square(y_pred, y_true)\n",
    "\n",
    "    loss = tf.cond(cosine_loss<alpha,\n",
    "                            lambda: 0.75*cosine_loss + 0.25*mean_square_loss,\n",
    "                            lambda: cosine_loss)\n",
    "    return loss"
   ]
  },
  {
   "cell_type": "code",
   "execution_count": 365,
   "metadata": {},
   "outputs": [],
   "source": [
    "tf.reset_default_graph()"
   ]
  },
  {
   "cell_type": "code",
   "execution_count": 366,
   "metadata": {},
   "outputs": [
    {
     "name": "stdout",
     "output_type": "stream",
     "text": [
      "network building...\n"
     ]
    }
   ],
   "source": [
    "# Network building\n",
    "batch_size = 4\n",
    "learning_rate = 0.0005\n",
    "print('network building...')\n",
    "net = tflearn.input_data(shape=[None, 2, 768])  \n",
    "net = tflearn.lstm(net, 768) \n",
    "net = tflearn.layers.core.dropout(net, 0.70)\n",
    "net = tflearn.fully_connected(net, 768, restore=False) \n",
    "net = tflearn.regression(net, optimizer='adam', batch_size=batch_size, learning_rate=learning_rate, loss='custom_loss')"
   ]
  },
  {
   "cell_type": "code",
   "execution_count": 367,
   "metadata": {},
   "outputs": [
    {
     "name": "stdout",
     "output_type": "stream",
     "text": [
      "training...\n"
     ]
    }
   ],
   "source": [
    "# Training\n",
    "print('training...')\n",
    "model = tflearn.DNN(net, tensorboard_verbose=0, best_checkpoint_path='model_finetuning', max_checkpoints=3)"
   ]
  },
  {
   "cell_type": "code",
   "execution_count": 349,
   "metadata": {},
   "outputs": [
    {
     "name": "stdout",
     "output_type": "stream",
     "text": [
      "Training Step: 799  | total loss: \u001b[1m\u001b[32m0.57314\u001b[0m\u001b[0m | time: 0.021s\n",
      "| Adam | epoch: 200 | loss: 0.57314 - acc: 0.1599 -- iter: 192/198\n",
      "Training Step: 800  | total loss: \u001b[1m\u001b[32m0.57250\u001b[0m\u001b[0m | time: 1.032s\n",
      "| Adam | epoch: 200 | loss: 0.57250 - acc: 0.1605 | val_loss: 0.57161 - val_acc: 0.2000 -- iter: 198/198\n",
      "--\n"
     ]
    }
   ],
   "source": [
    "model.fit(trainX, trainY, \n",
    "    validation_set=(testX, testY), \n",
    "    n_epoch=100, \n",
    "    show_metric=True,\n",
    "    run_id='fine_tuning!')"
   ]
  },
  {
   "cell_type": "code",
   "execution_count": 351,
   "metadata": {},
   "outputs": [
    {
     "name": "stdout",
     "output_type": "stream",
     "text": [
      "test acc: [0.20000000298023224]\n",
      "Generate predictions for  5  samples\n",
      "predictions shape: (5, 768)\n",
      "\n",
      "\n",
      "PREDICTED EMBEDDING\n",
      "c1         pit\n",
      "c2        fall\n",
      "cmp    pitfall\n",
      "Name: 198, dtype: object ['one', 'since', 'although', 'acting', 'solid']\n",
      "closest cosine distance to the prediction: 0.6367340981960297, 0.6407382488250732\n",
      "c1          button\n",
      "c2           holes\n",
      "cmp    buttonholes\n",
      "Name: 199, dtype: object ['one', 'since', 'although', 'acting', 'solid']\n",
      "closest cosine distance to the prediction: 0.6367440223693848, 0.6405092477798462\n",
      "c1           master\n",
      "c2           pieces\n",
      "cmp    masterpieces\n",
      "Name: 200, dtype: object ['one', 'since', 'although', 'acting', 'solid']\n",
      "closest cosine distance to the prediction: 0.6433016061782837, 0.6471279561519623\n",
      "c1         back\n",
      "c2         side\n",
      "cmp    backside\n",
      "Name: 201, dtype: object ['one', 'since', 'although', 'acting', 'solid']\n",
      "closest cosine distance to the prediction: 0.6465586721897125, 0.6522055864334106\n",
      "c1          bride\n",
      "c2          groom\n",
      "cmp    bridegroom\n",
      "Name: 202, dtype: object ['one', 'since', 'although', 'acting', 'solid']\n",
      "closest cosine distance to the prediction: 0.6390444934368134, 0.6449078321456909\n",
      "\n"
     ]
    },
    {
     "name": "stderr",
     "output_type": "stream",
     "text": [
      "/Users/kalliehuynh/miniforge3/envs/env/lib/python3.10/site-packages/sklearn/manifold/_t_sne.py:800: FutureWarning: The default initialization in TSNE will change from 'random' to 'pca' in 1.2.\n",
      "  warnings.warn(\n",
      "/Users/kalliehuynh/miniforge3/envs/env/lib/python3.10/site-packages/sklearn/manifold/_t_sne.py:810: FutureWarning: The default learning rate in TSNE will change from 200.0 to 'auto' in 1.2.\n",
      "  warnings.warn(\n",
      "/Users/kalliehuynh/miniforge3/envs/env/lib/python3.10/site-packages/sklearn/manifold/_t_sne.py:800: FutureWarning: The default initialization in TSNE will change from 'random' to 'pca' in 1.2.\n",
      "  warnings.warn(\n",
      "/Users/kalliehuynh/miniforge3/envs/env/lib/python3.10/site-packages/sklearn/manifold/_t_sne.py:810: FutureWarning: The default learning rate in TSNE will change from 200.0 to 'auto' in 1.2.\n",
      "  warnings.warn(\n"
     ]
    },
    {
     "data": {
      "image/png": "[encoded data removed]",
      "text/plain": [
       "<Figure size 640x480 with 3 Axes>"
      ]
     },
     "metadata": {},
     "output_type": "display_data"
    },
    {
     "name": "stdout",
     "output_type": "stream",
     "text": [
      "BATCH SIZE: 4\n",
      "LEARNING_RATE: 0.0005\n",
      "/Users/kalliehuynh/miniforge3/envs/env/lib/python3.10/site-packages/tensorflow/_api/v2/compat/v1/__init__.py\n"
     ]
    }
   ],
   "source": [
    "# Results\n",
    "result = model.evaluate(testX, testY)\n",
    "print(\"test acc:\", result)\n",
    "\n",
    "\n",
    "def generate_TSNE_all(predicted, true):\n",
    "    \"\"\"Generates a TSNE visualization of the predicted embeddings and the true embeddings\n",
    "        Predicted embeddings are in coral, true are in light blue.\n",
    "    Args:\n",
    "        predicted : predicted embeddings\n",
    "        true : true embeddings\n",
    "    \"\"\"\n",
    "    model = TSNE(2)\n",
    "    transformed_p = model.fit_transform(predicted)\n",
    "    transformed_t = model.fit_transform(true)\n",
    "\n",
    "    p_xs = transformed_p[:,0]\n",
    "    p_ys = transformed_p[:,1]\n",
    "\n",
    "    t_xs = transformed_t[:,0]\n",
    "    t_ys = transformed_t[:,1]\n",
    "\n",
    "    fig = plt.figure()\n",
    "\n",
    "    plt.subplot(1, 3, 1)\n",
    "    plt.scatter(t_xs, t_ys, c='lightblue')  # true are light blue\n",
    "\n",
    "    plt.subplot(1, 3, 2)\n",
    "    plt.scatter(p_xs, p_ys, c='coral')  # predicted are coral\n",
    "\n",
    "    plt.subplot(1, 3, 3)\n",
    "    plt.scatter(t_xs, t_ys, c='lightblue')  # true are light blue\n",
    "    plt.scatter(p_xs, p_ys, c='coral')  # predicted are coral\n",
    "\n",
    "    plt.show()\n",
    "\n",
    "\n",
    "\n",
    "\n",
    "# Visible testing\n",
    "samples = 5\n",
    "print(\"Generate predictions for \", samples, \" samples\")\n",
    "predictions = model.predict(testX[:samples])\n",
    "print(\"predictions shape:\", predictions.shape)\n",
    "print('')\n",
    "print('')\n",
    "\n",
    "print('PREDICTED EMBEDDING')\n",
    "for i in range(samples):\n",
    "    closest_words = find_closest_embeddings(predictions[i])[:5] # Closest 5 words for each prediction\n",
    "    print(df.loc[train_rows + i, ['c1', 'c2', 'cmp']], closest_words)\n",
    "    # print(predictions[i])\n",
    "    print('closest cosine distance to the prediction:', end=' ')\n",
    "    print(spatial.distance.cosine(predictions[i], embeddings_dict[closest_words[0]]), end=', ')\n",
    "    print(spatial.distance.cosine(predictions[i], embeddings_dict[closest_words[1]]))\n",
    "print('')\n",
    "\n",
    "# Generate TSNE viualization\n",
    "# For all embeddings\n",
    "labels = model.predict(testX)\n",
    "words = data.iloc[train_rows:, 2]\n",
    "features = np.array(data.iloc[train_rows:, 1540:], dtype=\"float32\")\n",
    "\n",
    "generate_TSNE_all(labels, features)\n",
    "\n",
    "print('BATCH SIZE:', batch_size)\n",
    "print('LEARNING_RATE:', learning_rate)\n",
    "\n",
    "print(tf.__file__)\n"
   ]
  },
  {
   "cell_type": "code",
   "execution_count": 277,
   "metadata": {},
   "outputs": [
    {
     "name": "stdout",
     "output_type": "stream",
     "text": [
      "PREDICTED EMBEDDING\n",
      "c1         pit\n",
      "c2        fall\n",
      "cmp    pitfall\n",
      "Name: 198, dtype: object [\"john's\", 'salesmen', 'half-hour', 'so-called', 'editorials']\n",
      "closest cosine distance to the prediction: 0.09049880504608154, 0.0809059739112854\n",
      "c1          button\n",
      "c2           holes\n",
      "cmp    buttonholes\n",
      "Name: 199, dtype: object ['loopholes', 'pelts', 'prudence', 'negroes', 'mexicans']\n",
      "closest cosine distance to the prediction: 0.002622067928314209, 0.13472837209701538\n",
      "c1           master\n",
      "c2           pieces\n",
      "cmp    masterpieces\n",
      "Name: 200, dtype: object ['vacations', 'u.s.', 'editorials', 'youngsters', 'articulate']\n",
      "closest cosine distance to the prediction: 0.08895754814147949, 0.057797372341156006\n",
      "c1         back\n",
      "c2         side\n",
      "cmp    backside\n",
      "Name: 201, dtype: object ['roadside', 'articulate', \"john's\", \"khrushchev's\", 'dr.']\n",
      "closest cosine distance to the prediction: 0.1001201868057251, 0.12751120328903198\n",
      "c1          bride\n",
      "c2          groom\n",
      "cmp    bridegroom\n",
      "Name: 202, dtype: object ['solid', 'sometimes', 'naturally', 'yet', 'square']\n",
      "closest cosine distance to the prediction: 0.12407302856445312, 0.11397171020507812\n",
      "\n"
     ]
    }
   ],
   "source": [
    "\n",
    "print('PREDICTED EMBEDDING')\n",
    "for i in range(samples):\n",
    "    closest_words = find_closest_embeddings(predictions[i])[:5] # Closest 5 words for each prediction\n",
    "    print(df.loc[train_rows + i, ['c1', 'c2', 'cmp']], closest_words)\n",
    "    # print(predictions[i])\n",
    "    print('closest cosine distance to the prediction:', end=' ')\n",
    "    print(spatial.distance.cosine(predictions[i], embeddings_dict[closest_words[0]]), end=', ')\n",
    "    print(spatial.distance.cosine(predictions[i], embeddings_dict[closest_words[1]]))\n",
    "print('')"
   ]
  },
  {
   "cell_type": "markdown",
   "metadata": {},
   "source": []
  }
 ],
 "metadata": {
  "kernelspec": {
   "display_name": "Python 3.10.6 ('env')",
   "language": "python",
   "name": "python3"
  },
  "language_info": {
   "codemirror_mode": {
    "name": "ipython",
    "version": 3
   },
   "file_extension": ".py",
   "mimetype": "text/x-python",
   "name": "python",
   "nbconvert_exporter": "python",
   "pygments_lexer": "ipython3",
   "version": "3.10.6"
  },
  "orig_nbformat": 4,
  "vscode": {
   "interpreter": {
    "hash": "e03f2347ef9e31ec8a4fa393c170e948257e0ad8b331027cbab04a1524ff726e"
   }
  }
 },
 "nbformat": 4,
 "nbformat_minor": 2
}
